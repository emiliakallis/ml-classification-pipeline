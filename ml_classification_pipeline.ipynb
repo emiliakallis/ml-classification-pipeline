{
 "cells": [
  {
   "cell_type": "markdown",
   "id": "3efda0c8",
   "metadata": {},
   "source": [
    "# Maximizing Predictive Performance in ML Classification Tasks\n",
    "\n",
    "This notebook presents a complete ML pipeline to compare and optimize classification models on a structured dataset.\n",
    "\n",
    "A dataset is explored to find the best machine learning model for predicting the target variable `y`. It includes data loading, preprocessing, model training, cross-validation, and performance evaluation for various algorithms.\n",
    "\n",
    "The goal is to demonstrate effective model comparison and reasoning in selecting the best-performing model.\n"
   ]
  },
  {
   "cell_type": "markdown",
   "id": "d8decf3a",
   "metadata": {},
   "source": [
    "## Dependencies\n",
    "\n",
    "This notebook requires the following Python packages:\n",
    "\n",
    "| Library        | Alias | Purpose                      |\n",
    "|----------------|-------|------------------------------|\n",
    "| `pandas`       | `pd`  | Data manipulation            |\n",
    "| `numpy`        | `np`  | Numerical operations         |\n",
    "| `scikit-learn` | —     | ML models, preprocessing     |\n",
    "| `matplotlib`   | `plt` | Plotting                     |\n",
    "| `seaborn`      | `sns` | Visualization                |\n",
    "| `optuna`       | —     | Hyperparameter tuning        |\n",
    "| `xgboost`      | —     | Boosting classifiers         |\n",
    "| `lightgbm`     | —     | Boosting classifiers         |\n"
   ]
  },
  {
   "cell_type": "code",
   "execution_count": null,
   "id": "fd14814e",
   "metadata": {},
   "outputs": [],
   "source": [
    "# Run this cell in Google Colab or fresh environments\n",
    "!pip install pandas numpy scikit-learn matplotlib seaborn optuna xgboost lightgbm"
   ]
  },
  {
   "cell_type": "code",
   "execution_count": null,
   "id": "38ed45a2",
   "metadata": {},
   "outputs": [],
   "source": [
    "import pandas as pd\n",
    "import numpy as np\n",
    "import matplotlib.pyplot as plt\n",
    "import seaborn as sns\n",
    "import optuna\n",
    "\n",
    "from sklearn.model_selection import train_test_split, KFold, cross_val_score, GridSearchCV\n",
    "from sklearn.preprocessing import OneHotEncoder, LabelEncoder, StandardScaler\n",
    "from sklearn.pipeline import Pipeline\n",
    "from sklearn.decomposition import PCA\n",
    "from sklearn.ensemble import RandomForestClassifier, VotingClassifier, StackingClassifier\n",
    "from sklearn.linear_model import LogisticRegression\n",
    "from sklearn.metrics import classification_report, confusion_matrix, accuracy_score\n",
    "\n",
    "from xgboost import XGBClassifier\n",
    "from lightgbm import LGBMClassifier\n",
    "from optuna.integration import XGBoostPruningCallback"
   ]
  },
  {
   "cell_type": "code",
   "execution_count": null,
   "id": "90ac53c5",
   "metadata": {
    "colab": {
     "base_uri": "https://localhost:8080/"
    },
    "collapsed": true,
    "id": "ZjRoXSIcxaPP",
    "outputId": "32b7ebc5-4857-42d3-a1b2-195a5d45bb46"
   },
   "outputs": [],
   "source": [
    "!pip install optuna"
   ]
  },
  {
   "cell_type": "markdown",
   "id": "1c1d68c0",
   "metadata": {},
   "source": [
    "## 1. Data Access via Google Drive\n",
    "\n",
    "To work with the dataset in a Google Colab environment, I first mount Google Drive.  \n",
    "This allows me to access files stored in a personal Google Drive folder.\n",
    "\n",
    "> Note: If you're running this notebook locally, replace the Drive path with a local file path."
   ]
  },
  {
   "cell_type": "code",
   "execution_count": null,
   "id": "3a826f25",
   "metadata": {
    "colab": {
     "base_uri": "https://localhost:8080/"
    },
    "id": "ztYA2e296O38",
    "outputId": "b78d77fc-34b4-4d88-c105-573f859218d9"
   },
   "outputs": [
    {
     "name": "stdout",
     "output_type": "stream",
     "text": [
      "Mounted at /content/drive\n"
     ]
    }
   ],
   "source": [
    "from google.colab import drive\n",
    "drive.mount('/content/drive', force_remount=True)\n"
   ]
  },
  {
   "cell_type": "code",
   "execution_count": null,
   "id": "3998f07c",
   "metadata": {
    "id": "qBikSHqe-zbV"
   },
   "outputs": [],
   "source": [
    "# Update this path to match your Google Drive folder structure\n",
    "data_path = \"path/to/your/data/\""
   ]
  },
  {
   "cell_type": "markdown",
   "id": "8428a59e",
   "metadata": {},
   "source": [
    "## 2. Data Loading\n",
    "\n",
    "In this section, I load the dataset into a pandas DataFrame.\n",
    "\n",
    "The data is assumed to be in `.csv` format and stored either in Google Drive (for Colab users) or locally (for offline use).\n",
    "\n",
    "> Tip: Ensure the dataset file name is correct and that the file is uploaded or accessible from your environment."
   ]
  },
  {
   "cell_type": "code",
   "execution_count": null,
   "id": "0316aa75",
   "metadata": {
    "colab": {
     "base_uri": "https://localhost:8080/"
    },
    "id": "igbd_y906JL1",
    "outputId": "50c42918-a7f8-46c2-a1a9-74369941a83d"
   },
   "outputs": [
    {
     "name": "stdout",
     "output_type": "stream",
     "text": [
      "           y         x1       x2         x3       x4         x5         x6  \\\n",
      "0  Antrophic  199.84675 -0.22935  -94.57266 -0.90297  229.65733 -119.73784   \n",
      "1     OpenAI  199.76663  0.57961  -98.69548 -0.89087  229.58771 -117.92856   \n",
      "2  Antrophic  200.40804 -0.03834  -97.64719 -0.89971  230.20797 -121.71234   \n",
      "3  Antrophic  201.38523  0.51942 -105.16820 -0.89226  231.15781 -120.69422   \n",
      "4     OpenAI  199.60130 -0.76663  -94.42670 -0.88284  229.39822 -122.24543   \n",
      "\n",
      "   x7       x8       x9       x10      x11   x12        x13  \n",
      "0  Q4  0.12045  0.50670  13.31960  2.86055  True  951.94743  \n",
      "1  Q4 -0.28505  0.16832  14.52734 -0.51453  True  949.48540  \n",
      "2  Q3 -0.13753  0.71530   9.90651  0.35612  True  953.21660  \n",
      "3  Q2  0.03872 -0.37550  11.10684  1.32156  True  954.34203  \n",
      "4  Q4  0.46721  2.14220   9.72683 -4.96100  True  950.79316  \n",
      "Index(['y', 'x1', 'x2', 'x3', 'x4', 'x5', 'x6', 'x7', 'x8', 'x9', 'x10', 'x11',\n",
      "       'x12', 'x13'],\n",
      "      dtype='object')\n"
     ]
    }
   ],
   "source": [
    "# Read CSV while skipping the first column\n",
    "df = pd.read_csv(data_path + \"TrainOnMe.csv\", index_col=0)  # Drops the first column\n",
    "\n",
    "# Preview the data\n",
    "print(df.head())\n",
    "print(df.columns)"
   ]
  },
  {
   "cell_type": "markdown",
   "id": "bf9aa562",
   "metadata": {},
   "source": [
    "## 3. Initial Preprocessing\n",
    "\n",
    "In this step, I prepare the dataset for modeling by transforming categorical and binary variables, separating features from the target, and standardizing the inputs.\n",
    "\n",
    "These preprocessing steps are essential to ensure that the machine learning models receive clean, properly formatted data.\n"
   ]
  },
  {
   "cell_type": "code",
   "execution_count": null,
   "id": "54d7711a",
   "metadata": {
    "id": "SLP6M3UB_Wbq"
   },
   "outputs": [],
   "source": [
    "# Identify categorical and binary columns (excluding the target 'y')\n",
    "categorical_col = 'x7'\n",
    "binary_col = 'x12'  # Binary column\n",
    "\n",
    "# Separate target variable from features\n",
    "y = df['y']\n",
    "X = df.drop(columns=['y'])\n",
    "\n",
    "# Convert binary column (True/False) to integers (1/0)\n",
    "X[binary_col] = X[binary_col].astype(int)\n",
    "\n",
    "# One-hot encode the categorical feature (x7)\n",
    "encoder = OneHotEncoder(sparse_output=False, handle_unknown=\"ignore\")\n",
    "encoded_X = encoder.fit_transform(X[['x7']])\n",
    "encoded_X_df = pd.DataFrame(encoded_X, columns=encoder.get_feature_names_out(['x7']))\n",
    "\n",
    "# Drop original categorical column and add encoded features\n",
    "X = X.drop(columns=['x7']).reset_index(drop=True)\n",
    "X = pd.concat([X, encoded_X_df], axis=1)\n",
    "\n",
    "# Label-encode the target variable 'y' for classification\n",
    "label_encoder = LabelEncoder()\n",
    "y_encoded = label_encoder.fit_transform(y)"
   ]
  },
  {
   "cell_type": "code",
   "execution_count": null,
   "id": "821a0e5f",
   "metadata": {
    "id": "d8zp0TX4jsYF"
   },
   "outputs": [],
   "source": [
    "# Standardize numerical features (after encoding is complete)\n",
    "scaler = StandardScaler()\n",
    "X_scaled = scaler.fit_transform(X)"
   ]
  },
  {
   "cell_type": "markdown",
   "id": "8d762d1b",
   "metadata": {},
   "source": [
    "## 4. Feature Engineering & Splitting\n",
    "After preprocessing, I split the dataset into training and test sets using stratified sampling to preserve the class distribution.\n",
    "\n",
    "I also visualize the class balance in the training data, which is an important step before applying any resampling techniques (e.g., SMOTE) or training models.\n",
    "\n",
    "> Class imbalance, if present, can impact model performance and must be handled appropriately."
   ]
  },
  {
   "cell_type": "code",
   "execution_count": null,
   "id": "95ea3f23",
   "metadata": {
    "id": "RvTvZLhCjy81"
   },
   "outputs": [],
   "source": [
    "# Split the data into training and test sets (80/20 split), stratifying by target class\n",
    "X_train, X_test, y_train, y_test = train_test_split(X_scaled, y_encoded, test_size=0.2, random_state=42, stratify=y)"
   ]
  },
  {
   "cell_type": "code",
   "execution_count": null,
   "id": "78b9c03c",
   "metadata": {
    "colab": {
     "base_uri": "https://localhost:8080/",
     "height": 452
    },
    "id": "5xUD-8C48vZn",
    "outputId": "13e9a6f1-9219-4e71-fcbd-d566724526db"
   },
   "outputs": [
    {
     "data": {
      "image/png": "[encoded data removed]",
      "text/plain": [
       "<Figure size 640x480 with 1 Axes>"
      ]
     },
     "metadata": {},
     "output_type": "display_data"
    }
   ],
   "source": [
    "# Visualize class distribution in the training set\n",
    "sns.countplot(x=y_train)\n",
    "plt.title(\"Class Distribution Before SMOTE\")\n",
    "plt.show()"
   ]
  },
  {
   "cell_type": "markdown",
   "id": "5bd0024c",
   "metadata": {},
   "source": [
    "## 5. Hyperparameter Optimization for Classifiers\n",
    "\n",
    "I define and optimize three classification models: **Random Forest**, **XGBoost**, and **LightGBM**.\n",
    "\n",
    "Using `Optuna`, I tune each model’s hyperparameters to maximize classification accuracy. Each optimization uses cross-validation for evaluation, and pruning is enabled to efficiently skip unpromising trials.\n",
    "\n",
    "> This approach demonstrates practical experience in model selection, tuning, and reproducibility in real-world ML workflows.\n",
    "\n"
   ]
  },
  {
   "cell_type": "code",
   "execution_count": null,
   "id": "85096332",
   "metadata": {
    "colab": {
     "base_uri": "https://localhost:8080/"
    },
    "id": "_jxTyMs4tFx3",
    "outputId": "106df53a-d8f3-4dc2-ffc7-22f9f4539268"
   },
   "outputs": [],
   "source": [
    "# Random Forest Objective Function for Optuna\n",
    "def rf_objective(trial):\n",
    "    n_estimators = trial.suggest_int('n_estimators', 100, 600, step=50)\n",
    "    max_depth = trial.suggest_int('max_depth', 5, 30, step=2)\n",
    "    min_samples_split = trial.suggest_int('min_samples_split', 2, 20)\n",
    "    min_samples_leaf = trial.suggest_int('min_samples_leaf', 1, 10)\n",
    "    max_features = trial.suggest_categorical('max_features', ['sqrt', 'log2', None])\n",
    "    bootstrap = trial.suggest_categorical('bootstrap', [True, False])\n",
    "\n",
    "    rf = RandomForestClassifier(\n",
    "        n_estimators=n_estimators,\n",
    "        max_depth=max_depth,\n",
    "        min_samples_split=min_samples_split,\n",
    "        min_samples_leaf=min_samples_leaf,\n",
    "        max_features=max_features,\n",
    "        bootstrap=bootstrap,\n",
    "        random_state=42\n",
    "    )\n",
    "\n",
    "    return cross_val_score(rf, X_train, y_train, cv=10, scoring='accuracy').mean()\n",
    "\n",
    "# Run Optuna study for RF\n",
    "rf_study = optuna.create_study(direction=\"maximize\")\n",
    "rf_study.optimize(rf_objective, n_trials=50, n_jobs=-1)\n",
    "\n",
    "print(\"Best RF Parameters:\", rf_study.best_params)"
   ]
  },
  {
   "cell_type": "markdown",
   "id": "66de9661",
   "metadata": {},
   "source": [
    "### Best Random Forest Parameters (Optuna Result)\n",
    "\n",
    "- `n_estimators`: 600  \n",
    "- `max_depth`: 15  \n",
    "- `min_samples_split`: 12  \n",
    "- `min_samples_leaf`: 2  \n",
    "- `max_features`: \"log2\"  \n",
    "- `bootstrap`: True  \n",
    "- **Cross-validated Accuracy**: 0.68750"
   ]
  },
  {
   "cell_type": "code",
   "execution_count": null,
   "id": "cfe1ba80",
   "metadata": {
    "colab": {
     "base_uri": "https://localhost:8080/"
    },
    "id": "VbP52rt1tPgf",
    "outputId": "30a11c88-95ce-4a5d-8875-ce4933ecdecf"
   },
   "outputs": [],
   "source": [
    "# XGBoost Objective Function for Optuna\n",
    "def xgb_objective(trial):\n",
    "    pruning_callback = XGBoostPruningCallback(trial, \"validation_0-logloss\")\n",
    "\n",
    "    n_estimators = trial.suggest_int('n_estimators', 100, 500, step=50)\n",
    "    max_depth = trial.suggest_int('max_depth', 3, 15)\n",
    "    learning_rate = trial.suggest_float('learning_rate', 0.01, 0.3)\n",
    "    subsample = trial.suggest_float('subsample', 0.6, 1.0)\n",
    "    colsample_bytree = trial.suggest_float('colsample_bytree', 0.6, 1.0)\n",
    "    gamma = trial.suggest_float('gamma', 0, 5)\n",
    "\n",
    "    xgb = XGBClassifier(\n",
    "        n_estimators=n_estimators,\n",
    "        max_depth=max_depth,\n",
    "        learning_rate=learning_rate,\n",
    "        subsample=subsample,\n",
    "        colsample_bytree=colsample_bytree,\n",
    "        gamma=gamma,\n",
    "        random_state=42,\n",
    "        eval_metric=\"logloss\",\n",
    "        tree_method=\"gpu_hist\",  # GPU acceleration\n",
    "        gpu_id=0\n",
    "    )\n",
    "\n",
    "    scores = cross_val_score(xgb, X_train, y_train, cv=3, scoring=\"accuracy\")\n",
    "\n",
    "    trial.report(scores.mean(), step=0)\n",
    "\n",
    "    if trial.should_prune():\n",
    "        raise optuna.TrialPruned()\n",
    "\n",
    "    return scores.mean()\n",
    "\n",
    "# Run Optuna study for XGBoost\n",
    "xgb_study = optuna.create_study(direction=\"maximize\", pruner=optuna.pruners.MedianPruner(n_warmup_steps=5))\n",
    "xgb_study.optimize(xgb_objective, n_trials=30, n_jobs=-1)\n",
    "\n",
    "print(\"Best XGB Parameters:\", xgb_study.best_params)"
   ]
  },
  {
   "cell_type": "markdown",
   "id": "30ef8972",
   "metadata": {},
   "source": [
    "### Best XGBoost Parameters (Optuna Result)\n",
    "\n",
    "- `n_estimators`: 550  \n",
    "- `max_depth`: 8  \n",
    "- `learning_rate`: 0.2051686949233296\n",
    "- `subsample`: 0.5060864147463304\n",
    "- `colsample_bytree`: 0.8061335924872397\n",
    "- `gamma`: 4.069312272904837\n",
    "- **Cross-validated Accuracy**: 0.69025"
   ]
  },
  {
   "cell_type": "code",
   "execution_count": null,
   "id": "a986dd8f",
   "metadata": {
    "colab": {
     "base_uri": "https://localhost:8080/"
    },
    "id": "mGWjo6g0tUhB",
    "outputId": "8a645dcf-9132-4c5d-fb34-7c0ac351d8fc"
   },
   "outputs": [],
   "source": [
    "# LightGBM Objective Function for Optuna\n",
    "def lgb_objective(trial):\n",
    "    n_estimators = trial.suggest_int('n_estimators', 100, 300, step=50)\n",
    "    learning_rate = trial.suggest_float('learning_rate', 0.01, 0.2)\n",
    "    num_leaves = trial.suggest_int('num_leaves', 20, 100)  # Reduced range\n",
    "    min_child_samples = trial.suggest_int('min_child_samples', 5, 50)  # Smaller range\n",
    "    lambda_l1 = trial.suggest_float('lambda_l1', 0, 2)  # Reduced range\n",
    "    lambda_l2 = trial.suggest_float('lambda_l2', 0, 2)\n",
    "\n",
    "    lgb = LGBMClassifier(\n",
    "        n_estimators=n_estimators,\n",
    "        learning_rate=learning_rate,\n",
    "        num_leaves=num_leaves,\n",
    "        min_child_samples=min_child_samples,\n",
    "        lambda_l1=lambda_l1,\n",
    "        lambda_l2=lambda_l2,\n",
    "        random_state=42\n",
    "    )\n",
    "\n",
    "    return cross_val_score(lgb, X_train, y_train, cv=5, scoring='accuracy').mean()  # 5-Fold CV for speed\n",
    "\n",
    "# Run Optuna study for LGBM\n",
    "pruner = optuna.pruners.MedianPruner(n_warmup_steps=5)\n",
    "lgb_study = optuna.create_study(direction=\"maximize\", pruner=pruner)\n",
    "lgb_study.optimize(lgb_objective, n_trials=30, n_jobs=-1)\n",
    "\n",
    "print(\"Best LGB Parameters:\", lgb_study.best_params)"
   ]
  },
  {
   "cell_type": "markdown",
   "id": "2fc74748",
   "metadata": {},
   "source": [
    "### Best LightGBM Parameters (Optuna Result)\n",
    "\n",
    "- `n_estimators`: 100   \n",
    "- `learning_rate`: 0.021759151111545517\n",
    "- `num_leaves`: 42\n",
    "- `min_child_samples`: 18\n",
    "- `lambda_l1`: 0.3271237462768151\n",
    "- `lambda_l2`: 0.8711423014282733\n",
    "- **Cross-validated Accuracy**: 0.67950"
   ]
  },
  {
   "cell_type": "markdown",
   "id": "f97de691",
   "metadata": {},
   "source": [
    "## 6. Stacked Ensemble Evaluation (Model Comparison)\n",
    "\n",
    "In this section, I compare various final estimators within a stacked ensemble using optimized base models:\n",
    "\n",
    "- Base models: tuned **Random Forest**, **XGBoost**, and **LightGBM**\n",
    "- Final estimators tested: **Logistic Regression**, **XGBoost**, **Random Forest**, and **LightGBM**\n",
    "\n",
    "Each stacking configuration is evaluated using accuracy on the test set.  \n",
    "This comparison helps identify which final estimator performs best before selecting a final ensemble.\n",
    "\n",
    "> The selected configuration in the next section is used to make final predictions on unseen data."
   ]
  },
  {
   "cell_type": "code",
   "execution_count": null,
   "id": "6c0bbf72",
   "metadata": {
    "colab": {
     "base_uri": "https://localhost:8080/"
    },
    "collapsed": true,
    "id": "0_dGm7YDrRzl",
    "outputId": "23a075ed-0fdb-4806-e2c9-91c5eb522a1f"
   },
   "outputs": [],
   "source": [
    "# Initialize base models using best hyperparameters found via Optuna\n",
    "best_rf = RandomForestClassifier(**rf_study.best_params, random_state=42)\n",
    "best_xgb = XGBClassifier(**xgb_study.best_params, random_state=42, eval_metric=\"logloss\")\n",
    "best_lgb = LGBMClassifier(**lgb_study.best_params, random_state=42)\n",
    "\n",
    "# Define different models to test as the final estimator in a stacking ensemble\n",
    "final_estimators = {\n",
    "    \"LogisticRegression\": LogisticRegression(),\n",
    "    \"XGBoost\": XGBClassifier(n_estimators=100, learning_rate=0.05, random_state=42),\n",
    "    \"RandomForest\": RandomForestClassifier(n_estimators=100, max_depth=5, random_state=42),\n",
    "    \"LightGBM\": LGBMClassifier(n_estimators=100, learning_rate=0.05, random_state=42),\n",
    "}\n",
    "\n",
    "# Evaluate each stacking configuration with different final estimators\n",
    "for name, estimator in final_estimators.items():\n",
    "    # Create stacking classifier with fixed base models and a variable final estimator\n",
    "    stacking_model = StackingClassifier(\n",
    "        estimators=[('rf', best_rf), ('xgb', best_xgb), ('lgb', best_lgb)],\n",
    "        final_estimator=estimator,\n",
    "        cv=5\n",
    "    )\n",
    "    \n",
    "    # Train the stacking model\n",
    "    stacking_model.fit(X_train, y_train)\n",
    "    \n",
    "    # Predict on the test set and evaluate accuracy\n",
    "    y_pred = stacking_model.predict(X_test)\n",
    "    acc = accuracy_score(y_test, y_pred)\n",
    "    print(f\"Stacking Accuracy with {name}: {acc:.4f}\")"
   ]
  },
  {
   "cell_type": "markdown",
   "id": "ce9ce9e3",
   "metadata": {},
   "source": [
    "### Stacked Ensemble Results\n",
    "\n",
    "I evaluated different final estimators for a stacking classifier using cross-validated accuracy:\n",
    "\n",
    "<table>\n",
    "<tr><td><code>LogisticRegression</code></td><td><strong>0.7040</strong></td></tr>\n",
    "<tr><td><code>RandomForest</code></td><td><strong>0.7010</strong></td></tr>\n",
    "<tr><td><code>XGBoost</code></td><td><strong>0.6930</strong></td></tr>\n",
    "<tr><td><code>LightGBM</code></td><td><strong>0.6880</strong></td></tr>\n",
    "</table>\n",
    "&nbsp;\n",
    "\n",
    "> Based on this evaluation, I selected **LogisticRegression** as the final estimator for the stacking model."
   ]
  },
  {
   "cell_type": "markdown",
   "id": "d83c93d7",
   "metadata": {},
   "source": [
    "## 7. Final Ensemble Selection & Evaluation\n",
    "\n",
    "Based on the model comparison in Section 6, I select the final stacking model with `LogisticRegression` as the final estimator.\n",
    "\n",
    "I retrain the stacking ensemble on the full training data and evaluate its accuracy on the test set to finalize my model selection."
   ]
  },
  {
   "cell_type": "code",
   "execution_count": null,
   "id": "43fa503e",
   "metadata": {
    "colab": {
     "base_uri": "https://localhost:8080/"
    },
    "id": "ql_Q0vAbtYUv",
    "outputId": "244cb321-0e58-4159-d1b0-1e13c4a0cede"
   },
   "outputs": [],
   "source": [
    "# Define final stacking model using Logistic Regression as final estimator\n",
    "final_stacking = StackingClassifier(\n",
    "    estimators=[('rf', best_rf), ('xgb', best_xgb), ('lgb', best_lgb)],\n",
    "    final_estimator=LogisticRegression(),\n",
    "    cv=10\n",
    ")\n",
    "\n",
    "# Train the final ensemble on the full training set\n",
    "final_stacking.fit(X_train, y_train)\n",
    "\n",
    "# Evaluate final model on test set\n",
    "y_pred = final_stacking.predict(X_test)\n",
    "accuracy = accuracy_score(y_test, y_pred)\n",
    "\n",
    "print(\"Final Stacking Accuracy:\", accuracy)"
   ]
  },
  {
   "cell_type": "markdown",
   "id": "c4d0c641",
   "metadata": {},
   "source": [
    "## 8. Predicting on New Data\n",
    "\n",
    "In this section, I use the final trained stacking model to make predictions on unseen data (`EvaluateOnMe.csv`).\n",
    "\n",
    "The new data undergoes the same preprocessing pipeline as the training data.  \n",
    "The output predictions are saved as a CSV file for downstream use, emulating a real-world model deployment pipeline."
   ]
  },
  {
   "cell_type": "code",
   "execution_count": null,
   "id": "5a72ce76",
   "metadata": {
    "colab": {
     "base_uri": "https://localhost:8080/"
    },
    "id": "YtCvq_hNLRil",
    "outputId": "cd619f6e-f7c3-4867-9096-9f8ed77f15a5"
   },
   "outputs": [],
   "source": [
    "# Load unseen test data\n",
    "new_data = pd.read_csv(data_path + \"EvaluateOnMe.csv\", index_col=0)\n",
    "\n",
    "# Preprocess new data using the same steps as training data\n",
    "\n",
    "# Encode binary column (True/False → 1/0)\n",
    "new_data[binary_col] = new_data[binary_col].astype(int)\n",
    "\n",
    "# One-hot encode the categorical column (x7)\n",
    "encoder = OneHotEncoder(sparse_output=False, handle_unknown=\"ignore\")\n",
    "encoded_new_data = encoder.fit_transform(new_data[['x7']])\n",
    "encoded_new_data = pd.DataFrame(encoded_new_data, columns=encoder.get_feature_names_out(['x7']))\n",
    "\n",
    "# Replace original categorical column with one-hot version\n",
    "new_data = new_data.drop(columns=['x7']).reset_index(drop=True)\n",
    "new_data = pd.concat([new_data, encoded_new_data], axis=1)\n",
    "\n",
    "# Apply standard scaling to match training distribution\n",
    "scaler = StandardScaler()\n",
    "new_data_scaled = scaler.fit_transform(new_data)\n",
    "\n",
    "# Generate predictions\n",
    "predicted_labels_encoded = final_stacking.predict(new_data_scaled)\n",
    "predicted_labels = label_encoder.inverse_transform(predicted_labels_encoded)\n",
    "\n",
    "# Save predictions as a CSV file\n",
    "pd.DataFrame(predicted_labels).to_csv(\"predictions.csv\", index=False, header=False)\n",
    "\n",
    "print(\"Predictions saved as predictions.csv\")"
   ]
  },
  {
   "cell_type": "markdown",
   "id": "ec32926a",
   "metadata": {},
   "source": [
    "## 9. Conclusion\n",
    "\n",
    "This notebook demonstrated a full machine learning classification workflow:\n",
    "\n",
    "- Explored and preprocessed data with categorical and binary features\n",
    "- Tuned hyperparameters for **Random Forest**, **XGBoost**, and **LightGBM** using `Optuna`\n",
    "- Compared stacked ensemble performance with multiple final estimators\n",
    "- Selected a final stacking model with **Logistic Regression** based on test accuracy\n",
    "- Applied the trained model to make predictions on unseen data\n",
    "\n",
    "> This end-to-end pipeline reflects a real-world ML workflow, balancing model performance, interpretability, and reproducibility.\n",
    "\n"
   ]
  }
 ],
 "metadata": {
  "language_info": {
   "name": "python"
  }
 },
 "nbformat": 4,
 "nbformat_minor": 5
}
